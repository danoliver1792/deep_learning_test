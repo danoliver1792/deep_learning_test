{
  "nbformat": 4,
  "nbformat_minor": 0,
  "metadata": {
    "colab": {
      "provenance": [],
      "authorship_tag": "ABX9TyPXBdO63sZeGArwLghSvY/K",
      "include_colab_link": true
    },
    "kernelspec": {
      "name": "python3",
      "display_name": "Python 3"
    },
    "language_info": {
      "name": "python"
    }
  },
  "cells": [
    {
      "cell_type": "markdown",
      "metadata": {
        "id": "view-in-github",
        "colab_type": "text"
      },
      "source": [
        "<a href=\"https://colab.research.google.com/github/danoliver1792/deep_learning_test/blob/main/rede_neural.ipynb\" target=\"_parent\"><img src=\"https://colab.research.google.com/assets/colab-badge.svg\" alt=\"Open In Colab\"/></a>"
      ]
    },
    {
      "cell_type": "code",
      "execution_count": 12,
      "metadata": {
        "id": "3ErBHfu-G0yj"
      },
      "outputs": [],
      "source": [
        "import numpy as np\n",
        "import torch\n",
        "import torch.nn.functional as F\n",
        "import torchvision\n",
        "import matplotlib.pyplot as plt\n",
        "from time import time\n",
        "from torchvision import datasets, transforms\n",
        "from torch import nn, optim"
      ]
    },
    {
      "cell_type": "code",
      "source": [
        "transform = transforms.ToTensor() #Define a conversão de imagem para tensor\n",
        "\n",
        "trainset = datasets.MNIST('./MNIST_data', download=True, train=True, transform=transform) #Carrega a parte de treino do dataset\n",
        "trainloader = torch.utils.data.DataLoader(trainset, batch_size=64, shuffle=True) #Cria um buffer para pegar os dados por parte\n",
        "\n",
        "valset = datasets.MNIST('./MNIST_data', download=True, train=False, transform=transform) #Carrega a parte de validação\n",
        "valloader = torch.utils.data.DataLoader(valset, batch_size=64, shuffle=True) #Cria um buffer para pegar os dados por partes"
      ],
      "metadata": {
        "id": "3j2UQq1-G-km"
      },
      "execution_count": 13,
      "outputs": []
    },
    {
      "cell_type": "code",
      "source": [
        "#Pegando uma imagem da base de dados para visualização\n",
        "dataiter = iter(trainloader)\n",
        "imagens, etiquetas = dataiter.next()\n",
        "plt.imshow(imagens[0].numpy().squeeze(), cmap='gray_r');"
      ],
      "metadata": {
        "colab": {
          "base_uri": "https://localhost:8080/",
          "height": 265
        },
        "id": "sYzDFFCII9pa",
        "outputId": "8b84a6b9-bc5c-49f5-8d66-a0f8f51b3567"
      },
      "execution_count": 14,
      "outputs": [
        {
          "output_type": "display_data",
          "data": {
            "text/plain": [
              "<Figure size 432x288 with 1 Axes>"
            ],
            "image/png": "[encoded data removed]"
          },
          "metadata": {
            "needs_background": "light"
          }
        }
      ]
    },
    {
      "cell_type": "code",
      "source": [
        "print(imagens[0].shape) #Para verificar as dimensões do tensor de cada imagem\n",
        "print(etiquetas[0].shape) #Para verificar as dimensões dp tensor de cada etiqueta\n"
      ],
      "metadata": {
        "colab": {
          "base_uri": "https://localhost:8080/"
        },
        "id": "-5ot1nZTJlzJ",
        "outputId": "5ccbe912-a848-4842-e334-13d9df1b36e2"
      },
      "execution_count": 15,
      "outputs": [
        {
          "output_type": "stream",
          "name": "stdout",
          "text": [
            "torch.Size([1, 28, 28])\n",
            "torch.Size([])\n"
          ]
        }
      ]
    },
    {
      "cell_type": "code",
      "source": [
        "class Modelo(nn.Module):\n",
        "  def __init__(self):\n",
        "    super(Modelo, self).__init__()\n",
        "    self.linear1 = nn.Linear(28*28, 128) #Camada de entrada, 784 neuronios que se ligam a 128\n",
        "    self.linear2 = nn.Linear(128, 64) #Camada interna 1, 128 neuronios que se ligam a 64\n",
        "    self.linear3 = nn.Linear(64, 10) #Camada interna 2, 64 neuronios que se ligam a 10\n",
        "\n",
        "    #Para a camada de saída não é necessário definir nada, porque só precisamps pegar o output da camada interna 2\n",
        "\n",
        "\n",
        "  def forward(self, X):\n",
        "    X = F.relu(self.linear1(X)) #Função de ativação da camada de entrada para a camada interna 1\n",
        "    X = F.relu(self.linear2(X)) #Função de ativação da camada interna 1 para a camada interna 2\n",
        "    X = self.linear3(X) #Função de ativação da camada 2 para a camada de saída, nesse caso f(x) = x\n",
        "    return F.log_softmax(X, dim=1) #Dados utilizados para calcular a perda "
      ],
      "metadata": {
        "id": "_8ocSSjwK-If"
      },
      "execution_count": 16,
      "outputs": []
    },
    {
      "cell_type": "code",
      "source": [
        "def treino(modelo, trainloader, device):\n",
        "  otimizador = optim.SGC(modelo.parameters(), lr=0.01, momentum=0.5) #Define a política de atualização de pesos e da bias\n",
        "  inicio = time() #Timer para sabermos quanto tempo levou o treino\n",
        "\n",
        "  criterio = nn.NLLoss() #Definindo o critério para calcular a perda\n",
        "  EPOCHS = 10 #Numero de epochs que o algoritmo rodará\n",
        "  modelo.train() #Ativando o modo de treinamento do modelo\n",
        "\n",
        "  for epoch in range(EPOCHS):\n",
        "    perda_acumulada = 0 #Inicialização da perda acumulada da epoch em questão\n",
        "\n",
        "    for imagens, etiquetas in trainloader:\n",
        "      imagens = imagens.view(imagens.shape[0], -1) #Convertendo as imagens para \"vetores\" de 28*28 casas\n",
        "      otimizador.zero_grad() #Zerando os gradientes por conta do ciclo anterior\n",
        "\n",
        "      output = modelo(imagens.to(device)) #Colocando os dados no modelo\n",
        "      perda_instantanea = criterio(output, etiquetas.to(device)) #Calculando a perda da epoch em questão\n",
        "\n",
        "      perda_instantanea.backward() #Back propagation a partir da perda\n",
        "\n",
        "      otimizador.step() #Atualizando os pesos e a bias\n",
        "\n",
        "      perda_acumulada += perda_instantanea.item() #Atualização da perda acumulada\n",
        "\n",
        "    else:\n",
        "      print('Epoch {} - Perda resultante: {}'.format(epoch+1, perda_acumulada/len(trainloader)))\n",
        "  print('\\nTempo de treino (em minutos) =', (time()-inicio)/60)"
      ],
      "metadata": {
        "id": "VC70YJw1R3ea"
      },
      "execution_count": 17,
      "outputs": []
    },
    {
      "cell_type": "code",
      "source": [
        "def validacao(modelo, valloader, device):\n",
        "  conta_corretas, conta_todas = 0, 0\n",
        "  for imagens, etiquetas in valloader:\n",
        "    for i in range(len(etiquetas)):\n",
        "      img = imagens[i].view(1, 784)\n",
        "      #Desativas o autograd para acelerar a validação. Grafos computacionais dinâmicos tem um custo alto de processamento\n",
        "      with torch.no_grad():\n",
        "        logps = modelo(img.to(device)) #Output do modelo em escala logaritmica\n",
        "\n",
        "      ps = torch.exp(logps) #Converte output para escala normal (lembrando que é um tensor)\n",
        "      probab = list(ps.cpu().numpy()[0])\n",
        "      etiqueta_pred = probab.index(max(probab)) #Converte o tensor em um número, no caso, o número que o modelo previu como correto\n",
        "      etiqueta_certa = etiquetas.numpy()[i]\n",
        "      if etiqueta_certa == etiqueta_pred:\n",
        "        conta_corretas += 1\n",
        "      conta_todas += 1\n",
        "\n",
        "    print('Total de imagens testadas =', conta_todas)\n",
        "    print('\\nPrecisão do modelo = {}%'.format(conta_corretas * 100 / conta_todas))\n",
        "    "
      ],
      "metadata": {
        "id": "zzLZ8WRxUVUQ"
      },
      "execution_count": 18,
      "outputs": []
    },
    {
      "cell_type": "code",
      "source": [
        "modelo = Modelo()\n",
        "device = torch.device('cuda' if torch.cuda.is_available() else 'cpu') #Verificando se tem o cuda disponível para nossa GPU\n",
        "modelo.to(device)"
      ],
      "metadata": {
        "colab": {
          "base_uri": "https://localhost:8080/"
        },
        "id": "aruBXAE3WM3q",
        "outputId": "4256c8dd-5979-44ac-9134-5cc02ffdadbc"
      },
      "execution_count": 19,
      "outputs": [
        {
          "output_type": "execute_result",
          "data": {
            "text/plain": [
              "Modelo(\n",
              "  (linear1): Linear(in_features=784, out_features=128, bias=True)\n",
              "  (linear2): Linear(in_features=128, out_features=64, bias=True)\n",
              "  (linear3): Linear(in_features=64, out_features=10, bias=True)\n",
              ")"
            ]
          },
          "metadata": {},
          "execution_count": 19
        }
      ]
    }
  ]
}